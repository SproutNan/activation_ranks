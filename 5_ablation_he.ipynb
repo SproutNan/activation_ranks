{
 "cells": [
  {
   "cell_type": "code",
   "execution_count": 1,
   "metadata": {},
   "outputs": [],
   "source": [
    "%load_ext autoreload\n",
    "%autoreload 2"
   ]
  },
  {
   "cell_type": "markdown",
   "metadata": {},
   "source": [
    "# 原始激活排行"
   ]
  },
  {
   "cell_type": "code",
   "execution_count": 2,
   "metadata": {},
   "outputs": [],
   "source": [
    "import os\n",
    "from ablation import *\n",
    "from visualization import *\n",
    "from ipywidgets import widgets\n",
    "\n",
    "task_options = [name[5:-3] for name in os.listdir(\"rank_tensors\")]\n",
    "\n",
    "task_name1 = widgets.Dropdown(options=task_options, value=task_options[0], description='Task 1:', disabled=False)\n",
    "task_name2 = widgets.Dropdown(options=task_options, value=task_options[1], description='Task 2:', disabled=False)\n",
    "\n",
    "n_layer, n_neuron = GetLayerNeuron(task_name1.value)\n",
    "\n",
    "layer_slider = widgets.IntSlider(value=1, min=0, max=n_layer-1, step=1, description='Layer:')"
   ]
  },
  {
   "cell_type": "code",
   "execution_count": 3,
   "metadata": {},
   "outputs": [
    {
     "data": {
      "application/vnd.jupyter.widget-view+json": {
       "model_id": "f1e7af0d760f4289bcf264f8a3bbb951",
       "version_major": 2,
       "version_minor": 0
      },
      "text/plain": [
       "VBox(children=(Dropdown(description='Task 1:', options=('gpt2_ag_news_5000_1', 'gpt2_imdb_5000_1', 'gpt2_imdb_…"
      ]
     },
     "metadata": {},
     "output_type": "display_data"
    },
    {
     "data": {
      "application/vnd.jupyter.widget-view+json": {
       "model_id": "f91dee17de9e4d2f9f5aedb4f6df867d",
       "version_major": 2,
       "version_minor": 0
      },
      "text/plain": [
       "Output()"
      ]
     },
     "metadata": {},
     "output_type": "display_data"
    }
   ],
   "source": [
    "clusters = {}\n",
    "\n",
    "from IPython.display import display\n",
    "\n",
    "def update_plot(task_name1, task_name2, layer_index, horizonal, vertical):\n",
    "    # 每次控件改变时，重新计算 cluster\n",
    "    cluster = ClusterByRect(task_name1, task_name2, layer_index, horizonal, vertical)\n",
    "    clusters[layer_index] = cluster\n",
    "    PlotTwoRankingsWithRect(task_name1, task_name2, layer_index, horizonal, vertical, cluster)\n",
    "\n",
    "horizonal = widgets.IntRangeSlider(value=[351, 1585], min=0, max=n_neuron, step=1, description='Horizonal Range:')\n",
    "vertical = widgets.IntRangeSlider(value=[422, 3072], min=0, max=n_neuron, step=1, description='Vertical Range:')\n",
    "\n",
    "ui = widgets.VBox([task_name1, task_name2, layer_slider, horizonal, vertical])\n",
    "out = widgets.interactive_output(update_plot, {'task_name1': task_name1, 'task_name2': task_name2, 'layer_index': layer_slider, 'horizonal': horizonal, 'vertical': vertical})\n",
    "\n",
    "display(ui, out)"
   ]
  },
  {
   "cell_type": "code",
   "execution_count": 4,
   "metadata": {},
   "outputs": [
    {
     "data": {
      "text/plain": [
       "dict_keys([1])"
      ]
     },
     "execution_count": 4,
     "metadata": {},
     "output_type": "execute_result"
    }
   ],
   "source": [
    "clusters.keys()"
   ]
  },
  {
   "cell_type": "code",
   "execution_count": 5,
   "metadata": {},
   "outputs": [
    {
     "data": {
      "application/vnd.jupyter.widget-view+json": {
       "model_id": "89dc8a37e5c64456b701cb980997825c",
       "version_major": 2,
       "version_minor": 0
      },
      "text/plain": [
       "  0%|          | 0/500 [00:00<?, ?it/s]"
      ]
     },
     "metadata": {},
     "output_type": "display_data"
    }
   ],
   "source": [
    "from subject_model import ModelSubject_GPT2, AblationSetting\n",
    "from input_corpus import TextCorpusDispatcher\n",
    "from tqdm.notebook import tqdm\n",
    "import torch\n",
    "\n",
    "model = ModelSubject_GPT2(\"gpt2\")\n",
    "dataset_name = \"ag_news\"\n",
    "num_each = 500\n",
    "batch_size = 1\n",
    "\n",
    "batches_1, batches_2 = TextCorpusDispatcher(\n",
    "    corpus_name=dataset_name,\n",
    "    num_each=num_each,\n",
    "    batch_size=batch_size,\n",
    ")\n",
    "\n",
    "difference = torch.zeros(model.n_vocab,)\n",
    "\n",
    "for batch in tqdm(batches_1.batches, total=len(batches_1.batches)):\n",
    "    probs_ablation_off = model.inference_ablation(\n",
    "        inputs = batch.texts,\n",
    "        ablations = []\n",
    "    )\n",
    "    probs_ablation_on = model.inference_ablation(\n",
    "        inputs = batch.texts,\n",
    "        ablations = [AblationSetting(\n",
    "            layer=1,\n",
    "            neurons=clusters[1]\n",
    "        )]\n",
    "    )\n",
    "    for prob_off, prob_on in zip(probs_ablation_off, probs_ablation_on):\n",
    "        difference += (prob_off - prob_on).sum(dim=0)"
   ]
  },
  {
   "cell_type": "code",
   "execution_count": 7,
   "metadata": {},
   "outputs": [
    {
     "data": {
      "text/plain": [
       "tensor([1.5402e+08, 1.5402e+08, 1.5402e+08,  ..., 1.5402e+08, 1.5402e+08,\n",
       "        1.5402e+08], grad_fn=<AddBackward0>)"
      ]
     },
     "execution_count": 7,
     "metadata": {},
     "output_type": "execute_result"
    }
   ],
   "source": [
    "# 看 difference 中哪些位置的值变动最大\n",
    "topk = 10\n",
    "topk_indices = torch.abs(difference).topk(topk).indices\n",
    "\n",
    "topk_indices\n",
    "difference"
   ]
  }
 ],
 "metadata": {
  "kernelspec": {
   "display_name": "base",
   "language": "python",
   "name": "python3"
  },
  "language_info": {
   "codemirror_mode": {
    "name": "ipython",
    "version": 3
   },
   "file_extension": ".py",
   "mimetype": "text/x-python",
   "name": "python",
   "nbconvert_exporter": "python",
   "pygments_lexer": "ipython3",
   "version": "3.11.9"
  }
 },
 "nbformat": 4,
 "nbformat_minor": 2
}
