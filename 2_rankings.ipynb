{
 "cells": [
  {
   "cell_type": "code",
   "execution_count": 16,
   "metadata": {},
   "outputs": [
    {
     "name": "stdout",
     "output_type": "stream",
     "text": [
      "The autoreload extension is already loaded. To reload it, use:\n",
      "  %reload_ext autoreload\n"
     ]
    }
   ],
   "source": [
    "%load_ext autoreload\n",
    "%autoreload 2"
   ]
  },
  {
   "cell_type": "markdown",
   "metadata": {},
   "source": [
    "# 激活排行比较\n",
    "\n",
    "指定两个要比较的激活排行，观察其在不同层上的行为"
   ]
  },
  {
   "cell_type": "code",
   "execution_count": 17,
   "metadata": {},
   "outputs": [
    {
     "data": {
      "application/vnd.jupyter.widget-view+json": {
       "model_id": "6b8c6f34627f40f3b08c3d1fdbb935c6",
       "version_major": 2,
       "version_minor": 0
      },
      "text/plain": [
       "interactive(children=(Dropdown(description='Task 1:', options=('gpt2_ag_news_5000_2', 'gpt2_ag_news_5000_1', '…"
      ]
     },
     "execution_count": 17,
     "metadata": {},
     "output_type": "execute_result"
    }
   ],
   "source": [
    "import os\n",
    "from path import *\n",
    "from visualization import *\n",
    "from ipywidgets import widgets\n",
    "\n",
    "task_options = [name[5:-3] for name in os.listdir(\"rank_tensors\")]\n",
    "\n",
    "\n",
    "task_name1 = widgets.Dropdown(\n",
    "    options=task_options,\n",
    "    value=task_options[0],\n",
    "    description='Task 1:',\n",
    "    disabled=False,\n",
    ")\n",
    "\n",
    "task_name2 = widgets.Dropdown(\n",
    "    options=task_options,\n",
    "    value=task_options[1],\n",
    "    description='Task 2:',\n",
    "    disabled=False,\n",
    ")\n",
    "\n",
    "n_layer, n_neuron = GetLayerNeuron(task_name1.value)\n",
    "\n",
    "layer_slider = widgets.IntSlider(value=0, min=0, max=n_layer-1, step=1, description='Layer:')\n",
    "\n",
    "widgets.interactive(\n",
    "    PlotTwoRankings, \n",
    "    task_name1=task_name1, \n",
    "    task_name2=task_name2,\n",
    "    layer_index=layer_slider\n",
    ")"
   ]
  },
  {
   "cell_type": "code",
   "execution_count": 23,
   "metadata": {},
   "outputs": [
    {
     "data": {
      "application/vnd.jupyter.widget-view+json": {
       "model_id": "2a66ceb4e7544407962095fd1ee9d5cb",
       "version_major": 2,
       "version_minor": 0
      },
      "text/plain": [
       "interactive(children=(Dropdown(description='Task 1:', options=('gpt2_ag_news_5000_2', 'gpt2_ag_news_5000_1', '…"
      ]
     },
     "execution_count": 23,
     "metadata": {},
     "output_type": "execute_result"
    }
   ],
   "source": [
    "task_name1 = widgets.Dropdown(\n",
    "    options=task_options,\n",
    "    value=task_options[0],\n",
    "    description='Task 1:',\n",
    "    disabled=False,\n",
    ")\n",
    "\n",
    "task_name2 = widgets.Dropdown(\n",
    "    options=task_options,\n",
    "    value=task_options[1],\n",
    "    description='Task 2:',\n",
    "    disabled=False,\n",
    ")\n",
    "\n",
    "n_layer, n_neuron = GetLayerNeuron(task_name1.value)\n",
    "\n",
    "total_layers = widgets.IntSlider(value=n_layer, min=n_layer, max=n_layer, step=1, description='Total Layers:')\n",
    "\n",
    "layers_per_row = widgets.IntSlider(value=4, min=1, max=n_layer, step=1, description='Layers per row:')\n",
    "\n",
    "widgets.interactive(\n",
    "    PlotAllLayers, \n",
    "    task_name1=task_name1, \n",
    "    task_name2=task_name2,\n",
    "    total_layers=total_layers,\n",
    "    layers_per_row=layers_per_row\n",
    ")"
   ]
  }
 ],
 "metadata": {
  "kernelspec": {
   "display_name": "hrx",
   "language": "python",
   "name": "python3"
  },
  "language_info": {
   "codemirror_mode": {
    "name": "ipython",
    "version": 3
   },
   "file_extension": ".py",
   "mimetype": "text/x-python",
   "name": "python",
   "nbconvert_exporter": "python",
   "pygments_lexer": "ipython3",
   "version": "3.12.2"
  }
 },
 "nbformat": 4,
 "nbformat_minor": 2
}
