{
 "cells": [
  {
   "cell_type": "code",
   "execution_count": null,
   "metadata": {},
   "outputs": [],
   "source": [
    "%load_ext autoreload\n",
    "%autoreload 2"
   ]
  },
  {
   "cell_type": "markdown",
   "metadata": {},
   "source": [
    "# 原始激活排行"
   ]
  },
  {
   "cell_type": "code",
   "execution_count": null,
   "metadata": {},
   "outputs": [],
   "source": [
    "import os\n",
    "from ablation import *\n",
    "from visualization import *\n",
    "from ipywidgets import widgets\n",
    "\n",
    "task_options = [name[5:-3] for name in os.listdir(\"rank_tensors\")]\n",
    "\n",
    "task_name1 = widgets.Dropdown(options=task_options, value=task_options[0], description='Task 1:', disabled=False)\n",
    "task_name2 = widgets.Dropdown(options=task_options, value=task_options[1], description='Task 2:', disabled=False)\n",
    "\n",
    "n_layer, n_neuron = GetLayerNeuron(task_name1.value)\n",
    "\n",
    "layer_slider = widgets.IntSlider(value=0, min=0, max=n_layer-1, step=1, description='Layer:')"
   ]
  },
  {
   "cell_type": "code",
   "execution_count": null,
   "metadata": {},
   "outputs": [],
   "source": [
    "clusters = {}\n",
    "\n",
    "from IPython.display import display\n",
    "\n",
    "def update_plot(task_name1, task_name2, layer_index, horizonal, vertical):\n",
    "    # 每次控件改变时，重新计算 cluster\n",
    "    cluster = ClusterByRect(task_name1, task_name2, layer_index, horizonal, vertical)\n",
    "    clusters[layer_index] = cluster\n",
    "    PlotTwoRankingsWithRect(task_name1, task_name2, layer_index, horizonal, vertical, cluster)\n",
    "\n",
    "horizonal = widgets.IntRangeSlider(value=[500, n_neuron-1], min=0, max=n_neuron, step=1, description='Horizonal Range:')\n",
    "vertical = widgets.IntRangeSlider(value=[0, n_neuron-1], min=0, max=n_neuron, step=1, description='Vertical Range:')\n",
    "\n",
    "ui = widgets.VBox([task_name1, task_name2, layer_slider, horizonal, vertical])\n",
    "out = widgets.interactive_output(update_plot, {'task_name1': task_name1, 'task_name2': task_name2, 'layer_index': layer_slider, 'horizonal': horizonal, 'vertical': vertical})\n",
    "\n",
    "display(ui, out)"
   ]
  },
  {
   "cell_type": "code",
   "execution_count": null,
   "metadata": {},
   "outputs": [],
   "source": [
    "clusters.keys()"
   ]
  },
  {
   "cell_type": "code",
   "execution_count": null,
   "metadata": {},
   "outputs": [],
   "source": [
    "from subject_model import ModelSubject_GPT2, AblationSetting\n",
    "from input_corpus import TextCorpusDispatcher\n",
    "from tqdm.notebook import tqdm\n",
    "\n",
    "model = ModelSubject_GPT2(\"gpt2\")\n",
    "dataset_name = \"ag_news\"\n",
    "num_each = 5000\n",
    "batch_size = 10\n",
    "\n",
    "batches_1, batches_2 = TextCorpusDispatcher(\n",
    "    corpus_name=dataset_name,\n",
    "    num_each=num_each,\n",
    "    batch_size=batch_size,\n",
    ")\n",
    "\n",
    "difference = torch.zeros(model.n_vocab,).to(model.device)\n",
    "\n",
    "for batch in tqdm(batches_1.batches, total=len(batches_1.batches)):\n",
    "    probs_ablation_off = model.inference_ablation(\n",
    "        inputs = batch.texts,\n",
    "        ablations = []\n",
    "    )\n",
    "    probs_ablation_on = model.inference_ablation(\n",
    "        inputs = batch.texts,\n",
    "        ablations = [AblationSetting(\n",
    "            layer=0,\n",
    "            neurons=clusters[0]\n",
    "        )]\n",
    "    )\n",
    "    for prob_off, prob_on in zip(probs_ablation_off, probs_ablation_on):\n",
    "        difference += (prob_off - prob_on).sum(dim=0)"
   ]
  }
 ],
 "metadata": {
  "kernelspec": {
   "display_name": "base",
   "language": "python",
   "name": "python3"
  },
  "language_info": {
   "codemirror_mode": {
    "name": "ipython",
    "version": 3
   },
   "file_extension": ".py",
   "mimetype": "text/x-python",
   "name": "python",
   "nbconvert_exporter": "python",
   "pygments_lexer": "ipython3",
   "version": "3.11.9"
  }
 },
 "nbformat": 4,
 "nbformat_minor": 2
}
