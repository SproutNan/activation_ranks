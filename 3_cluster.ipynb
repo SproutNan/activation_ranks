{
 "cells": [
  {
   "cell_type": "code",
   "execution_count": 1,
   "metadata": {},
   "outputs": [],
   "source": [
    "%load_ext autoreload\n",
    "%autoreload 2"
   ]
  },
  {
   "cell_type": "markdown",
   "metadata": {},
   "source": [
    "# 原始激活排行"
   ]
  },
  {
   "cell_type": "code",
   "execution_count": 2,
   "metadata": {},
   "outputs": [
    {
     "data": {
      "application/vnd.jupyter.widget-view+json": {
       "model_id": "1df9ab93a9ea456896fac0c19c47ec20",
       "version_major": 2,
       "version_minor": 0
      },
      "text/plain": [
       "interactive(children=(Dropdown(description='Task 1:', options=('gpt2_ag_news_5000_1', 'gpt2_imdb_5000_1', 'gpt…"
      ]
     },
     "execution_count": 2,
     "metadata": {},
     "output_type": "execute_result"
    }
   ],
   "source": [
    "import os\n",
    "from ablation import *\n",
    "from visualization import *\n",
    "from ipywidgets import widgets\n",
    "\n",
    "task_options = [name[5:-3] for name in os.listdir(\"rank_tensors\")]\n",
    "\n",
    "task_name1 = widgets.Dropdown(options=task_options, value=task_options[0], description='Task 1:', disabled=False)\n",
    "task_name2 = widgets.Dropdown(options=task_options, value=task_options[1], description='Task 2:', disabled=False)\n",
    "\n",
    "n_layer, n_neuron = GetLayerNeuron(task_name1.value)\n",
    "\n",
    "layer_slider = widgets.IntSlider(value=0, min=0, max=n_layer-1, step=1, description='Layer:')\n",
    "\n",
    "widgets.interactive(PlotTwoRankings, task_name1=task_name1, task_name2=task_name2, layer_index=layer_slider)"
   ]
  },
  {
   "cell_type": "code",
   "execution_count": 3,
   "metadata": {},
   "outputs": [],
   "source": [
    "clusters = {}"
   ]
  },
  {
   "cell_type": "markdown",
   "metadata": {},
   "source": [
    "# 根据框选器选中 cluster"
   ]
  },
  {
   "cell_type": "code",
   "execution_count": 6,
   "metadata": {},
   "outputs": [
    {
     "data": {
      "application/vnd.jupyter.widget-view+json": {
       "model_id": "e2a7e5bd5160467b9d66169eb82190bd",
       "version_major": 2,
       "version_minor": 0
      },
      "text/plain": [
       "VBox(children=(Dropdown(description='Task 1:', options=('gpt2_ag_news_5000_1', 'gpt2_imdb_5000_1', 'gpt2_imdb_…"
      ]
     },
     "metadata": {},
     "output_type": "display_data"
    },
    {
     "data": {
      "application/vnd.jupyter.widget-view+json": {
       "model_id": "0d3f3aaca66246a387bc1532a40447a2",
       "version_major": 2,
       "version_minor": 0
      },
      "text/plain": [
       "Output()"
      ]
     },
     "metadata": {},
     "output_type": "display_data"
    }
   ],
   "source": [
    "from IPython.display import display\n",
    "\n",
    "def update_plot(task_name1, task_name2, layer_index, horizonal, vertical):\n",
    "    # 每次控件改变时，重新计算 cluster\n",
    "    cluster = ClusterByRect(task_name1, task_name2, layer_index, horizonal, vertical)\n",
    "    clusters[layer_index] = cluster\n",
    "    PlotTwoRankingsWithRect(task_name1, task_name2, layer_index, horizonal, vertical, cluster)\n",
    "\n",
    "horizonal = widgets.IntRangeSlider(value=[0, n_neuron-1], min=0, max=n_neuron, step=1, description='Horizonal Range:')\n",
    "vertical = widgets.IntRangeSlider(value=[0, n_neuron-1], min=0, max=n_neuron, step=1, description='Vertical Range:')\n",
    "\n",
    "ui = widgets.VBox([task_name1, task_name2, layer_slider, horizonal, vertical])\n",
    "out = widgets.interactive_output(update_plot, {'task_name1': task_name1, 'task_name2': task_name2, 'layer_index': layer_slider, 'horizonal': horizonal, 'vertical': vertical})\n",
    "\n",
    "display(ui, out)"
   ]
  },
  {
   "cell_type": "markdown",
   "metadata": {},
   "source": [
    "# 根据广义距离自动计算 cluster"
   ]
  },
  {
   "cell_type": "code",
   "execution_count": 5,
   "metadata": {},
   "outputs": [
    {
     "data": {
      "application/vnd.jupyter.widget-view+json": {
       "model_id": "1ae6165aafb84a3591613fad28b7c316",
       "version_major": 2,
       "version_minor": 0
      },
      "text/plain": [
       "VBox(children=(Dropdown(description='Task 1:', options=('gpt2_ag_news_5000_1', 'gpt2_imdb_5000_1', 'gpt2_imdb_…"
      ]
     },
     "metadata": {},
     "output_type": "display_data"
    },
    {
     "data": {
      "application/vnd.jupyter.widget-view+json": {
       "model_id": "03c5cf40f5cb493ea059fcd0435ae9d0",
       "version_major": 2,
       "version_minor": 0
      },
      "text/plain": [
       "Output()"
      ]
     },
     "metadata": {},
     "output_type": "display_data"
    }
   ],
   "source": [
    "from IPython.display import display\n",
    "\n",
    "def update_plot(task_name1, task_name2, layer_index, center_x, center_y):\n",
    "    # 每次控件改变时，重新计算 cluster\n",
    "    cluster = ClusterByNeuron(task_name1, task_name2, layer_index, center_x, center_y)\n",
    "    clusters[layer_index] = cluster\n",
    "    PlotTwoRankingsWithNeuron(task_name1, task_name2, layer_index, center_x, center_y, cluster)\n",
    "\n",
    "center_x, center_y = widgets.IntSlider(value=n_neuron//2, min=0, max=n_neuron-1, step=1, description='Center X:'), widgets.IntSlider(value=n_neuron//2, min=0, max=n_neuron-1, step=1, description='Center Y:')\n",
    "\n",
    "ui = widgets.VBox([task_name1, task_name2, layer_slider, center_x, center_y])\n",
    "out = widgets.interactive_output(update_plot, {'task_name1': task_name1, 'task_name2': task_name2, 'layer_index': layer_slider, 'center_x': center_x, 'center_y': center_y})\n",
    "\n",
    "display(ui, out)"
   ]
  }
 ],
 "metadata": {
  "kernelspec": {
   "display_name": "base",
   "language": "python",
   "name": "python3"
  },
  "language_info": {
   "codemirror_mode": {
    "name": "ipython",
    "version": 3
   },
   "file_extension": ".py",
   "mimetype": "text/x-python",
   "name": "python",
   "nbconvert_exporter": "python",
   "pygments_lexer": "ipython3",
   "version": "3.11.9"
  }
 },
 "nbformat": 4,
 "nbformat_minor": 2
}
