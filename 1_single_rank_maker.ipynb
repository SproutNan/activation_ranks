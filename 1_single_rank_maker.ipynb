{
 "cells": [
  {
   "cell_type": "code",
   "execution_count": 5,
   "metadata": {},
   "outputs": [
    {
     "name": "stdout",
     "output_type": "stream",
     "text": [
      "The autoreload extension is already loaded. To reload it, use:\n",
      "  %reload_ext autoreload\n"
     ]
    }
   ],
   "source": [
    "%load_ext autoreload\n",
    "%autoreload 2"
   ]
  },
  {
   "cell_type": "markdown",
   "metadata": {},
   "source": [
    "# 单数据集激活排名\n",
    "\n",
    "给了一个数据集名字，比如 IMDB，会生成两个同域小数据集，每个小数据集上会有一个 rankings，我们现在还不涉及两个 rankings 的比较，主要先来看看单个小数据集上 rankings 的行为"
   ]
  },
  {
   "cell_type": "code",
   "execution_count": 6,
   "metadata": {},
   "outputs": [],
   "source": [
    "import torch\n",
    "import numpy as np\n",
    "from rank import *\n",
    "from path import *\n",
    "\n",
    "# 任务列表\n",
    "# 这个 cell 只制造 rankings 文件，下面的可视化 cell 用到的文件名是重新指定的\n",
    "task_names = [\n",
    "    \"gpt2_ag_news_5000_1\",\n",
    "    \"gpt2_ag_news_5000_2\",\n",
    "    \"gpt2_imdb_5000_1\",\n",
    "    \"gpt2_imdb_5000_2\",\n",
    "]\n",
    "\n",
    "for task_name in task_names:\n",
    "    container = torch.load(times(task_name), map_location='cpu')\n",
    "    rank = GetRankFromContainer(container)\n",
    "    torch.save(rank, ranks(task_name))"
   ]
  },
  {
   "cell_type": "markdown",
   "metadata": {},
   "source": [
    "# 可视化展现单激活排行的性质"
   ]
  },
  {
   "cell_type": "code",
   "execution_count": 7,
   "metadata": {},
   "outputs": [],
   "source": [
    "import ipywidgets as widgets\n",
    "from visualization import *\n",
    "\n",
    "n_layer, n_neuron = GetLayerNeuron(task_name)"
   ]
  },
  {
   "cell_type": "markdown",
   "metadata": {},
   "source": [
    "### 激活次数的分布情况\n",
    "\n",
    "颜色表示神经元的物理编号，$x$ 轴从左到右按照激活次数的大小排序，$y$ 轴表示激活次数\n",
    "\n",
    "注：已经在左侧观察到一些物理编号分区现象，但是这可能是由于稳定排序导致的"
   ]
  },
  {
   "cell_type": "code",
   "execution_count": 8,
   "metadata": {},
   "outputs": [
    {
     "data": {
      "application/vnd.jupyter.widget-view+json": {
       "model_id": "caa0d937fe964c09bd31381a751972cc",
       "version_major": 2,
       "version_minor": 0
      },
      "text/plain": [
       "interactive(children=(Text(value='gpt2_imdb_5000_2', description='task_name'), IntSlider(value=0, description=…"
      ]
     },
     "execution_count": 8,
     "metadata": {},
     "output_type": "execute_result"
    }
   ],
   "source": [
    "layer_slider = widgets.IntSlider(value=0, min=0, max=n_layer-1, step=1, description='Layer:')\n",
    "step_slider = widgets.IntSlider(value=1, min=1, max=n_neuron//100, step=1, description='Step:')\n",
    "\n",
    "widgets.interactive(PlotSingleActivationTime, task_name=task_name, layer_index=layer_slider, step=step_slider)"
   ]
  }
 ],
 "metadata": {
  "kernelspec": {
   "display_name": "hrx",
   "language": "python",
   "name": "python3"
  },
  "language_info": {
   "codemirror_mode": {
    "name": "ipython",
    "version": 3
   },
   "file_extension": ".py",
   "mimetype": "text/x-python",
   "name": "python",
   "nbconvert_exporter": "python",
   "pygments_lexer": "ipython3",
   "version": "3.12.2"
  }
 },
 "nbformat": 4,
 "nbformat_minor": 2
}
