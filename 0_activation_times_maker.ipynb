{
 "cells": [
  {
   "cell_type": "code",
   "execution_count": 10,
   "metadata": {},
   "outputs": [
    {
     "name": "stdout",
     "output_type": "stream",
     "text": [
      "The autoreload extension is already loaded. To reload it, use:\n",
      "  %reload_ext autoreload\n"
     ]
    }
   ],
   "source": [
    "%load_ext autoreload\n",
    "%autoreload 2"
   ]
  },
  {
   "cell_type": "markdown",
   "metadata": {},
   "source": [
    "# 创建同域数据集\n",
    "\n",
    "指定一个源数据集名字，比如 IMDB，然后从中随机选取若干条文本，分成两半，形成该数据集的两个同域数据集"
   ]
  },
  {
   "cell_type": "code",
   "execution_count": 11,
   "metadata": {},
   "outputs": [
    {
     "name": "stderr",
     "output_type": "stream",
     "text": [
      "/home/v-ruihuang/miniconda3/lib/python3.12/site-packages/huggingface_hub/file_download.py:1132: FutureWarning: `resume_download` is deprecated and will be removed in version 1.0.0. Downloads always resume when possible. If you want to force a new download, use `force_download=True`.\n",
      "  warnings.warn(\n"
     ]
    },
    {
     "name": "stdout",
     "output_type": "stream",
     "text": [
      "Processing ag_news...\n"
     ]
    },
    {
     "data": {
      "application/vnd.jupyter.widget-view+json": {
       "model_id": "a9cdcb5669874fb28b31df6f19c44bfe",
       "version_major": 2,
       "version_minor": 0
      },
      "text/plain": [
       "Processing batches 1:   0%|          | 0/500 [00:00<?, ?it/s]"
      ]
     },
     "metadata": {},
     "output_type": "display_data"
    },
    {
     "data": {
      "application/vnd.jupyter.widget-view+json": {
       "model_id": "5dfa1dd477f14f5d8246a2ccb8d0660f",
       "version_major": 2,
       "version_minor": 0
      },
      "text/plain": [
       "Processing batches 2:   0%|          | 0/500 [00:00<?, ?it/s]"
      ]
     },
     "metadata": {},
     "output_type": "display_data"
    },
    {
     "name": "stdout",
     "output_type": "stream",
     "text": [
      "Processing stanfordnlp/imdb...\n"
     ]
    },
    {
     "data": {
      "application/vnd.jupyter.widget-view+json": {
       "model_id": "c2659b25c6ea438f9bf8a239c0459677",
       "version_major": 2,
       "version_minor": 0
      },
      "text/plain": [
       "Processing batches 1:   0%|          | 0/500 [00:00<?, ?it/s]"
      ]
     },
     "metadata": {},
     "output_type": "display_data"
    },
    {
     "data": {
      "application/vnd.jupyter.widget-view+json": {
       "model_id": "467c77139efb44fdbe856bb974fc4224",
       "version_major": 2,
       "version_minor": 0
      },
      "text/plain": [
       "Processing batches 2:   0%|          | 0/500 [00:00<?, ?it/s]"
      ]
     },
     "metadata": {},
     "output_type": "display_data"
    }
   ],
   "source": [
    "from input_corpus import TextCorpusDispatcher\n",
    "from subject_model import ModelSubject_GPT2\n",
    "from tqdm.notebook import tqdm\n",
    "from path import *\n",
    "import torch\n",
    "\n",
    "# 源数据集名字，任务列表\n",
    "dataset_names = [\n",
    "    'ag_news',\n",
    "    'stanfordnlp/imdb',\n",
    "]\n",
    "\n",
    "# 超参数\n",
    "# - 选择GPT2模型\n",
    "# - 每个源数据集要分成两个同域小数据集，每个小数据集包含5000个样本\n",
    "# - 每个小数据集的batch size为10，共500个batch\n",
    "model = ModelSubject_GPT2('gpt2')\n",
    "num_each = 5000\n",
    "batch_size = 10\n",
    "\n",
    "# 对每个源数据集造两个同域小数据集\n",
    "for dataset_name in dataset_names:\n",
    "    print(f'Processing {dataset_name}...')\n",
    "\n",
    "    # 两个同域小数据集的 batches\n",
    "    batches_1, batches_2 = TextCorpusDispatcher(\n",
    "        corpus_name=dataset_name,\n",
    "        num_each=num_each,\n",
    "        batch_size=batch_size,\n",
    "    )\n",
    "\n",
    "    index = 1\n",
    "    for batches in [batches_1, batches_2]:\n",
    "        # 收集每个同域小数据集上的激活次数\n",
    "        ret = torch.zeros(model.n_layer, model.n_neuron, device=model.device)\n",
    "        for batch in tqdm(batches.batches, desc=f'Processing batches {index}', total=len(batches.batches)):\n",
    "            ret += model.inference(batch.texts)\n",
    "            \n",
    "        dataset_name = dataset_name.split('/')[-1]\n",
    "        # 保存激活次数为文件\n",
    "        torch.save(\n",
    "            ret, \n",
    "            times(f'gpt2_{dataset_name}_{num_each}_{index}'),\n",
    "        )\n",
    "        \n",
    "        index += 1"
   ]
  }
 ],
 "metadata": {
  "kernelspec": {
   "display_name": "hrx",
   "language": "python",
   "name": "python3"
  },
  "language_info": {
   "codemirror_mode": {
    "name": "ipython",
    "version": 3
   },
   "file_extension": ".py",
   "mimetype": "text/x-python",
   "name": "python",
   "nbconvert_exporter": "python",
   "pygments_lexer": "ipython3",
   "version": "3.12.2"
  }
 },
 "nbformat": 4,
 "nbformat_minor": 2
}
